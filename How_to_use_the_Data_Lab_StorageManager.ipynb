{
 "cells": [
  {
   "cell_type": "markdown",
   "metadata": {},
   "source": [
    "## How to use the Data Lab storage manager service\n",
    "\n",
    "This notebook documents how to use the Data Lab virtual storage system via the storage manager service. This can be done either from a Python script or from the command line using the <i>datalab</i> command.\n",
    "\n",
    "### The storage manager service interface\n",
    "\n",
    "The storage manager service simplifies access to the Data Lab virtual storage system. This section describes the storage manager service interface in case we want to write our own code against that rather than using one of the provided tools. The storage manager service accepts an HTTP GET call to the appropriate endpoint for the particular operation:\n",
    "\n",
    "| Endpoint | Description | Parameters |\n",
    "|----------|-------------|------------|\n",
    "| /get | Retrieve a file | name |\n",
    "| /put | Upload a file | name |\n",
    "| /cp | Copy a file/directory | from, to |\n",
    "| /ln | Link a file/directory | from, to |\n",
    "| /ls | Get a file/directory listing | name |\n",
    "| /mkdir | Create a directory | name |\n",
    "| /mv | Move/rename a file/directory | from, to |\n",
    "| /rm | Delete a file | name |\n",
    "| /rmdir | Delete a directory | name |\n",
    "| /tag | Annotate a file/directory | name, tag |\n",
    "\n",
    "For example, /get?name=vos://mag.csv\n",
    "\n",
    "#### Virtual storage identifiers\n",
    "\n",
    "Files in the virtual storage are identified via a \"vos://\" label. This resolves to the home area of our space.  Navigation above our home area is not supported.\n",
    "\n",
    "#### Authentication\n",
    "The storage manager service requires a DataLab security token. This needs to be passed as the value of the header keyword \"X-DL-AuthToken\" in any HTTP GET call to the service. "
   ]
  },
  {
   "cell_type": "markdown",
   "metadata": {},
   "source": [
    "### From Python code\n",
    "\n",
    "The storage manager service can be called from Python code using the <i>datalab</i> module. This provides methods to access the various query manager functions in the <i>storeMgr</i> subpackage. \n",
    "\n",
    "#### Initialization\n",
    "This is the setup that is required to use the storage manager. The first thing to do is import the relevant Python modules and also retrieve our DataLab security token (remember that this has to be included in any call to the storage manager service)."
   ]
  },
  {
   "cell_type": "code",
   "execution_count": 54,
   "metadata": {
    "collapsed": false
   },
   "outputs": [
    {
     "name": "stdout",
     "output_type": "stream",
     "text": [
      "datalab.1.1.$1$bCXBt6CO$IttqofWpcyyU./L5XwPcV1\n"
     ]
    }
   ],
   "source": [
    "from dl import auth\n",
    "from dl import storeMgr \n",
    "\n",
    "# Get the security token for the datalab user\n",
    "token = auth.login('dldemo', 'dldemo')"
   ]
  },
  {
   "cell_type": "markdown",
   "metadata": {},
   "source": [
    "#### The storeMgr class\n",
    "\n",
    "All queries are executed through the relevant methods of the <i>storeMgr</i> class:\n",
    "\n",
    "| Method | Description | Arguments |\n",
    "|----------|-------------|----------------|\n",
    "| get | Retrieve a file | name, location |\n",
    "| put | Upload a file | name, location |\n",
    "| cp | Copy a file/directory | fr, to |\n",
    "| ln | Create a link to a file/directory | fr, target |\n",
    "| ls | Get a file/directory listing | name |\n",
    "| mkdir | Create a directory | name |\n",
    "| mv | Move/rename a file/directory | fr, to |\n",
    "| rm | Delete a file | name |\n",
    "| rmdir | Delete a directory | name |\n",
    "| tag| Tag a file/directory | name, tag |"
   ]
  },
  {
   "cell_type": "markdown",
   "metadata": {},
   "source": [
    "#### Downloading a file\n",
    "\n",
    "Let's say we want to download a file from our virtual storage space, in this case a query result that we saved to it in the \"How to use the Data Lab query manager service\" notebook:"
   ]
  },
  {
   "cell_type": "code",
   "execution_count": 8,
   "metadata": {
    "collapsed": false
   },
   "outputs": [],
   "source": [
    "storeMgr.get(token, name = 'vos://mags.csv', location = './mags.csv')"
   ]
  },
  {
   "cell_type": "markdown",
   "metadata": {},
   "source": [
    "#### Uploading a file\n",
    "\n",
    "Now we want to upload a new data file from our local disk:"
   ]
  },
  {
   "cell_type": "code",
   "execution_count": 9,
   "metadata": {
    "collapsed": false
   },
   "outputs": [],
   "source": [
    "storeMgr.put(token, name = 'vos://newmags.csv', location = './newmags.csv')"
   ]
  },
  {
   "cell_type": "markdown",
   "metadata": {},
   "source": [
    "#### Copying a file/directory\n",
    "\n",
    "We want to put a copy of the file in a remote work directory:"
   ]
  },
  {
   "cell_type": "code",
   "execution_count": 33,
   "metadata": {
    "collapsed": false
   },
   "outputs": [],
   "source": [
    "storeMgr.mkdir(token, name = 'vos://temp')\n",
    "storeMgr.cp(token, fr = 'vos://newmags.csv', to = 'vos://temp/newmags.csv')"
   ]
  },
  {
   "cell_type": "markdown",
   "metadata": {},
   "source": [
    "#### Linking to a file/directory\n",
    "\n",
    "Sometimes we want to create a link to a file or directory:"
   ]
  },
  {
   "cell_type": "code",
   "execution_count": 34,
   "metadata": {
    "collapsed": true
   },
   "outputs": [],
   "source": [
    "storeMgr.ln(token, fr = 'vos://temp/mags.csv', target = 'vos://mags.csv')"
   ]
  },
  {
   "cell_type": "markdown",
   "metadata": {},
   "source": [
    "#### Listing a file/directory\n",
    "\n",
    "We can see all the files that are in a specific directory or get a full listing for a specific file:"
   ]
  },
  {
   "cell_type": "code",
   "execution_count": 53,
   "metadata": {
    "collapsed": false
   },
   "outputs": [
    {
     "name": "stdout",
     "output_type": "stream",
     "text": [
      "newmags.csv,mags.csv\n"
     ]
    }
   ],
   "source": [
    "listing = storeMgr.ls(token, name = 'vos://temp')\n",
    "print listing"
   ]
  },
  {
   "cell_type": "markdown",
   "metadata": {},
   "source": [
    "#### Creating a directory\n",
    "\n",
    "We can create a directory:"
   ]
  },
  {
   "cell_type": "code",
   "execution_count": 25,
   "metadata": {
    "collapsed": true
   },
   "outputs": [],
   "source": [
    "storeMgr.mkdir(token, name = 'vos://results')"
   ]
  },
  {
   "cell_type": "markdown",
   "metadata": {},
   "source": [
    "#### Moving/renaming a file/directory\n",
    "\n",
    "We can move a file or directory:"
   ]
  },
  {
   "cell_type": "code",
   "execution_count": 27,
   "metadata": {
    "collapsed": false
   },
   "outputs": [],
   "source": [
    "storeMgr.mv(token, fr = 'vos://temp/newmags.csv', to = 'vos://results')"
   ]
  },
  {
   "cell_type": "markdown",
   "metadata": {},
   "source": [
    "#### Deleting a file\n",
    "\n",
    "We can delete a file:"
   ]
  },
  {
   "cell_type": "code",
   "execution_count": 30,
   "metadata": {
    "collapsed": false
   },
   "outputs": [],
   "source": [
    "storeMgr.rm(token, name = 'vos://temp/mags.csv')"
   ]
  },
  {
   "cell_type": "markdown",
   "metadata": {},
   "source": [
    "#### Deleting a directory\n",
    "\n",
    "We can also delete a directory:"
   ]
  },
  {
   "cell_type": "code",
   "execution_count": 31,
   "metadata": {
    "collapsed": true
   },
   "outputs": [],
   "source": [
    "storeMgr.rmdir(token, name = 'vos://temp')"
   ]
  },
  {
   "cell_type": "markdown",
   "metadata": {},
   "source": [
    "#### Tagging a file/directory\n",
    "\n",
    "We can tag any file or directory with arbitrary metadata:"
   ]
  },
  {
   "cell_type": "code",
   "execution_count": 32,
   "metadata": {
    "collapsed": true
   },
   "outputs": [],
   "source": [
    "storeMgr.tag(token, name = 'vos://results', tag = 'The results from my analysis')"
   ]
  },
  {
   "cell_type": "markdown",
   "metadata": {},
   "source": [
    "NOTE: We need a method to retrieve tags or include them in the listing."
   ]
  },
  {
   "cell_type": "markdown",
   "metadata": {},
   "source": [
    "### Using the datalab command\n",
    "\n",
    "The <i>datalab</i> command provides an alternate command line way to work with the query manager through the <i>query</i> subcommands.\n",
    "\n",
    "#### Initialization\n",
    "We need to be logged into the DataLab to use the query manager."
   ]
  },
  {
   "cell_type": "code",
   "execution_count": null,
   "metadata": {
    "collapsed": true
   },
   "outputs": [],
   "source": [
    "!datalab login --user=datalab --password=..."
   ]
  },
  {
   "cell_type": "markdown",
   "metadata": {},
   "source": [
    "#### Downloading a file\n",
    "\n",
    "Let's say we want to download a file from our virtual storage space:"
   ]
  },
  {
   "cell_type": "code",
   "execution_count": null,
   "metadata": {
    "collapsed": true
   },
   "outputs": [],
   "source": [
    "!datalab get --file=\"vos://mags.csv\" --save=\"./mags.csv\""
   ]
  },
  {
   "cell_type": "markdown",
   "metadata": {},
   "source": [
    "#### Uploading a file\n",
    "\n",
    "Now we want to upload a new data file from our local disk:"
   ]
  },
  {
   "cell_type": "code",
   "execution_count": 1,
   "metadata": {
    "collapsed": false
   },
   "outputs": [
    {
     "name": "stdout",
     "output_type": "stream",
     "text": [
      "/bin/sh: datalab: command not found\r\n"
     ]
    }
   ],
   "source": [
    "!datalab put --file=\"./newmags.csv\"  --target=\"vos://newmags.csv\""
   ]
  },
  {
   "cell_type": "markdown",
   "metadata": {},
   "source": [
    "#### Copying a file/directory\n",
    "\n",
    "We want to put a copy of the file in a remote work directory:"
   ]
  },
  {
   "cell_type": "code",
   "execution_count": 2,
   "metadata": {
    "collapsed": false
   },
   "outputs": [
    {
     "name": "stdout",
     "output_type": "stream",
     "text": [
      "/bin/sh: datalab: command not found\r\n"
     ]
    }
   ],
   "source": [
    "!datalab cp --from=\"vos://newmags.csv\" --to=\"vos://temp/newmags.csv\""
   ]
  },
  {
   "cell_type": "markdown",
   "metadata": {},
   "source": [
    "#### Linking to a file/directory\n",
    "\n",
    "Sometimes we want to create a link to a file or directory:"
   ]
  },
  {
   "cell_type": "code",
   "execution_count": null,
   "metadata": {
    "collapsed": true
   },
   "outputs": [],
   "source": [
    "!datalab ln --from=\"vos://temp/mags.csv\" --to=\"vos://mags.csv\""
   ]
  },
  {
   "cell_type": "markdown",
   "metadata": {},
   "source": [
    "#### Listing a file/directory\n",
    "\n",
    "We can see all the files that are in a specific directory or get a full listing for a specific file:"
   ]
  },
  {
   "cell_type": "code",
   "execution_count": null,
   "metadata": {
    "collapsed": true
   },
   "outputs": [],
   "source": [
    "!datalab ls --from=\"vos://temp\""
   ]
  },
  {
   "cell_type": "markdown",
   "metadata": {},
   "source": [
    "#### Creating a directory\n",
    "\n",
    "We can create a directory:"
   ]
  },
  {
   "cell_type": "code",
   "execution_count": null,
   "metadata": {
    "collapsed": true
   },
   "outputs": [],
   "source": [
    "!datalab mkdir --dir=\"vos://results\""
   ]
  },
  {
   "cell_type": "markdown",
   "metadata": {},
   "source": [
    "#### Moving/renaming a file/directory\n",
    "\n",
    "We can move a file or directory:"
   ]
  },
  {
   "cell_type": "code",
   "execution_count": null,
   "metadata": {
    "collapsed": true
   },
   "outputs": [],
   "source": [
    "!datalab mv --from=\"vos://temp/newmags.csv\" --to=\"vos://results\""
   ]
  },
  {
   "cell_type": "markdown",
   "metadata": {},
   "source": [
    "#### Deleting a file\n",
    "\n",
    "We can delete a file:"
   ]
  },
  {
   "cell_type": "code",
   "execution_count": null,
   "metadata": {
    "collapsed": true
   },
   "outputs": [],
   "source": [
    "!datalab rm --file=\"vos://temp/mags.csv\""
   ]
  },
  {
   "cell_type": "markdown",
   "metadata": {},
   "source": [
    "#### Deleting a directory\n",
    "\n",
    "We can also delete a directory:"
   ]
  },
  {
   "cell_type": "code",
   "execution_count": null,
   "metadata": {
    "collapsed": true
   },
   "outputs": [],
   "source": [
    "!datalab rmdir --dir=\"vos://temp\""
   ]
  },
  {
   "cell_type": "markdown",
   "metadata": {},
   "source": [
    "#### Tagging a file/directory\n",
    "\n",
    "We can tag any file or directory with arbitrary metadata:"
   ]
  },
  {
   "cell_type": "code",
   "execution_count": null,
   "metadata": {
    "collapsed": true
   },
   "outputs": [],
   "source": [
    "!datalab tag --name=\"vos://results\" --tag=\"The results from my analysis\""
   ]
  }
 ],
 "metadata": {
  "kernelspec": {
   "display_name": "Python 2",
   "language": "python",
   "name": "python2"
  },
  "language_info": {
   "codemirror_mode": {
    "name": "ipython",
    "version": 2
   },
   "file_extension": ".py",
   "mimetype": "text/x-python",
   "name": "python",
   "nbconvert_exporter": "python",
   "pygments_lexer": "ipython2",
   "version": "2.7.11"
  }
 },
 "nbformat": 4,
 "nbformat_minor": 0
}
