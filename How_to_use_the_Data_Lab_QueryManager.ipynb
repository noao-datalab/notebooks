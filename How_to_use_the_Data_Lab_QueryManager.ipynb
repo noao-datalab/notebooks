{
 "cells": [
  {
   "cell_type": "markdown",
   "metadata": {},
   "source": [
    "## How to use the Data Lab query manager service\n",
    "\n",
    "This notebook documents how to query the Data Lab via the query manager service. This can be done either from a Python script or from the command line using the <i>datalab</i> command.\n",
    "\n",
    "### The query manager service interface\n",
    "\n",
    "The query manager service simplifies access to the Data Lab databases. This section describes the query manager service interface in case we want to write our own code against that rather than using one of the provided tools.\n",
    "The query manager service accepts an HTTP GET call to the <i>query</i> endpoint with the following parameters:\n",
    "\n",
    "| Name | Function | Optional | Supported values |\n",
    "|------|----------|----------|------------------|\n",
    "| adql | The query string to run against the db | No | - |\n",
    "| out | The location to save any results | Yes | 'vos://...', 'mydb://...' |\n",
    "| ofmt | The output format of any results | Yes | ascii, csv, votable |\n",
    "| async | Run the query asynchronously | Yes | true/false |\n",
    "| profile | The server profile to use | Yes | default |\n",
    "\n",
    "For example: /query?adql=<query>&ofmt=csv\n",
    "\n",
    "#### Saving results\n",
    "If no save location is specified (no <i>out</i> param) then the results are returned directly. A save location beginning with the 'vos://' identifier indicates a location in the user's virtual storage to save the result. A save location beginning with the 'mydb://' identifier indicates the results are to be saved to a table in the user's remote database (MyDB). \n",
    "\n",
    "#### Output formats\n",
    "The results can be returned as whitespace delimited (<i>ascii</i>), CSV (<i>csv</i>), or in VOTable format (<i>votable</i>). Note that if the results are saved to the user's database then the output format is ignored.\n",
    "\n",
    "#### Asynchronous queries\n",
    "Long queries should be run asynchronously and the service may refuse any synchronous query attempted if the projected query time is too long. A query can be submitted asynchronously by setting the <i>async</i> parameter to <i>true</i>. A job id will then be returned.\n",
    "\n",
    "The status of an asynchronous query can be checked by submitting an HTTP GET call to the query manager service <i>status</i> endpoint with the relevant job id as an argument: /status?jobid=<jobid>. A return value of 'COMPLETED' indicates the query has terminated. A return value of 'ERROR' indicates that there was a problem with the query.\n",
    "\n",
    "The results of an asynchronous query (assuming that they were not saved to either the user's virtual storage or remote database) can be retrieved once the query has completed with an HTTP GET call to the query manager service <i>results</i> endpoint with the relevant job id as argument: /results?jobid=<jobid>\n",
    "\n",
    "#### Authentication\n",
    "The query manager service requires a Data Lab security token. This needs to be passed as the value of the header keyword \"X-DL-AuthToken\" in any HTTP GET call to the service. \n",
    "\n",
    "#### Profiles\n",
    "There are several different backend machines serving data, etc., and it is possible that a user might want to specify a particular set to run their query on and save results to. A <i>profile</i> defines such a set and a particular profile can be specified in a query call."
   ]
  },
  {
   "cell_type": "markdown",
   "metadata": {},
   "source": [
    "### From Python code\n",
    "\n",
    "The query manager service can be called from Python code using the <i>datalab</i> module. This provides methods to access the various query manager functions in the <i>queryMgr</i> subpackage. \n",
    "\n",
    "#### Initialization\n",
    "This is the setup that is required to use the query manager. The first thing to do is import the relevant Python modules and also retrieve our DataLab security token (remember that this has to be included in any call to the query manager service)."
   ]
  },
  {
   "cell_type": "code",
   "execution_count": 2,
   "metadata": {
    "collapsed": false
   },
   "outputs": [],
   "source": [
    "from dl import auth\n",
    "from dl import queryClient \n",
    "\n",
    "# Get the security token for the datalab user\n",
    "token = auth.login('dldemo', 'dldemo')"
   ]
  },
  {
   "cell_type": "markdown",
   "metadata": {},
   "source": [
    "#### The queryClient class\n",
    "\n",
    "All queries are executed through the <i>query</i> method of the <i>queryClient</i> class. This takes as arguments:\n",
    "\n",
    "| Argument | Description | Default  value |\n",
    "|----------|-------------|----------------|\n",
    "| adql | The query to be submitted | None |\n",
    "| fmt | The returned format (if any) | ascii |\n",
    "| out | The saved location (if any) | None |\n",
    "| async | Indicates if the query is asynchronous | False |\n",
    "| profile | Indicates which backend machines to use | default |\n",
    "\n",
    "Note that if a profile is not specified then the default profile is assumed."
   ]
  },
  {
   "cell_type": "markdown",
   "metadata": {},
   "source": [
    "#### A quick query\n",
    "\n",
    "Let's say we want to return the $gri$ magnitudes of the top 100 objects in the SMASH data set and get it back as a CSV file:"
   ]
  },
  {
   "cell_type": "code",
   "execution_count": 3,
   "metadata": {
    "collapsed": false
   },
   "outputs": [],
   "source": [
    "query = 'select id, gmag, rmag, imag from smash.avgmag limit 100'\n",
    "response = queryClient.query(token, adql = query, fmt = 'csv')"
   ]
  },
  {
   "cell_type": "code",
   "execution_count": 4,
   "metadata": {
    "collapsed": false
   },
   "outputs": [
    {
     "name": "stdout",
     "output_type": "stream",
     "text": [
      "id,gmag,rmag,imag\n",
      "Hydra_60.10003,22.843399,24.6819,22.8244991\n",
      "Hydra_60.89,24.8066998,24.2763996,24.0221004\n",
      "Hydra_60.9953,23.9937,23.4176006,22.9069004\n",
      "Hydra_60.10009,23.7912998,22.4797993,22.0340996\n",
      "Hydra_60.9957,24.6268997,24.5195007,23.9092999\n",
      "Hydra_60.9860,24.7607002,23.3785,24.0037994\n",
      "Hydra_60.181,24.5746002,23.1380005,21.9060001\n",
      "Hydra_60.103,24.1401005,24.3003006,23.0058002\n",
      "Hydra_60.9922,25.2731991,24.8771,\n",
      "Hydra_60.9863,23.2695007,24.4512997,23.8591003\n",
      "Hydra_60.10022,23.7537003,23.6933994,23.6445999\n",
      "Hydra_60.10043,24.8637009,24.7749996,23.9365997\n",
      "Hydra_60.219,24.4347,23.6812,22.6504002\n",
      "Hydra_60.216,23.9703007,24.2101002,23.1686993\n",
      "Hydra_60.10081,24.3715,24.2938004,23.5991993\n",
      "Hydra_60.10198,23.7346001,24.3570995,24.4517002\n",
      "Hydra_60.360,23.8528004,24.0013008,23.7865009\n",
      "Hydra_60.251,24.8265991,24.2684994,24.2320004\n",
      "Hydra_60.304,25.1567001,24.2383003,23.9722004\n",
      "Hydra_60.247,23.1860008,22.3076992,22.1240997\n",
      "Hydra_60.9828,23.8581009,22.7644997,22.5168991\n",
      "Hydra_60.351,24.6161003,24.0077991,23.6550007\n",
      "Hydra_60.10109,24.4440994,24.3931007,24.0580006\n",
      "Hydra_60.277,24.8544006,24.3796005,24.3313007\n",
      "Hydra_60.10142,24.3803005,24.1243992,24.2898998\n",
      "Hydra_60.321,24.4999008,24.1088009,23.9293003\n",
      "Hydra_60.317,24.8043995,24.3682003,23.9106998\n",
      "Hydra_60.207,24.0021,23.7285995,22.7992992\n",
      "Hydra_60.9996,24.1320992,24.4874001,24.5375004\n",
      "Hydra_60.9881,24.802,24.5473995,23.5373001\n",
      "Hydra_60.92,24.6009998,24.1446991,23.8574009\n",
      "Hydra_60.154,24.3153,23.8934994,23.3778992\n",
      "Hydra_60.9975,24.9088993,24.8159008,23.0230007\n",
      "Hydra_60.93,23.9344997,24.2901001,23.6473007\n",
      "Hydra_60.114,24.6898003,24.1800995,24.2684002\n",
      "Hydra_60.10020,24.5930004,24.3733006,24.1504002\n",
      "Hydra_60.151,23.8992004,23.4547997,23.1646004\n",
      "Hydra_60.9859,25.0918999,24.1233997,23.7098999\n",
      "Hydra_60.169,23.9797001,23.6954002,23.3553009\n",
      "Hydra_60.10032,23.9955006,24.2688007,24.0028\n",
      "Hydra_60.95,25.1527996,24.6742992,23.9097996\n",
      "Hydra_60.185,24.5266991,24.2210007,23.6177006\n",
      "Hydra_60.10136,24.7733002,24.5590992,24.0956993\n",
      "Hydra_60.228,24.8516998,24.2289009,23.9137993\n",
      "Hydra_60.256,24.6191998,24.1793003,24.1672001\n",
      "Hydra_60.314,24.6609993,24.1527004,24.2292004\n",
      "Hydra_60.245,24.5167007,24.2935009,24.2786999\n",
      "Hydra_60.10044,24.2252998,24.5881004,24.3948994\n",
      "Hydra_60.10108,24.5505009,24.405899,24.3446999\n",
      "Hydra_60.250,24.4752007,24.4249992,23.9636993\n",
      "Hydra_60.270,24.4276009,24.2653008,23.9599991\n",
      "Hydra_60.10193,24.5492992,24.2959995,24.5510998\n",
      "Hydra_60.236,24.7877007,24.2844009,24.2259998\n",
      "Hydra_60.10534,24.9745007,24.1168003,23.8561001\n",
      "Hydra_60.10599,24.6530991,25.2047005,23.8950005\n",
      "Hydra_60.964,24.6464996,23.9244003,23.6769009\n",
      "Hydra_60.1112,24.0212002,23.3612995,22.8008003\n",
      "Hydra_60.10734,24.7865009,23.6954994,24.0753002\n",
      "Hydra_60.10709,24.4057007,23.8134003,23.2320995\n",
      "Hydra_60.1121,24.7205009,24.5900002,23.1259995\n",
      "Hydra_60.10227,24.1117001,23.5825996,23.2558994\n",
      "Hydra_60.10233,25.1970997,24.2031002,23.1140995\n",
      "Hydra_60.430,24.9353008,23.6527996,23.0021\n",
      "Hydra_60.499,24.9740009,24.2243004,23.6548004\n",
      "Hydra_60.10336,24.1893005,24.2098007,23.9116001\n",
      "Hydra_60.519,24.6303997,23.8792,23.6597004\n",
      "Hydra_60.10291,24.2555008,24.3064003,24.0870991\n",
      "Hydra_60.475,24.6590996,24.4627991,23.9269009\n",
      "Hydra_60.10205,24.434,24.3866005,23.8822002\n",
      "Hydra_60.412,24.3813,23.7553005,23.3586006\n",
      "Hydra_60.371,24.3796005,24.7488995,23.9517994\n",
      "Hydra_60.420,24.3057995,24.1854,23.7682991\n",
      "Hydra_60.10313,24.5088005,24.3686008,24.4125004\n",
      "Hydra_60.10345,24.6718998,23.6952991,23.5886993\n",
      "Hydra_60.585,24.4496002,24.0294991,23.9195004\n",
      "Hydra_60.522,24.3213997,24.5645008,24.1606998\n",
      "Hydra_60.462,24.8405991,24.2805004,24.1375008\n",
      "Hydra_60.10403,24.1931992,24.5776997,23.3015003\n",
      "Hydra_60.624,24.3076992,23.9727993,23.0905991\n",
      "Hydra_60.10371,24.2747002,24.8309002,24.5161991\n",
      "Hydra_60.10394,24.4606991,24.0706997,24.3875999\n",
      "Hydra_60.633,24.4904003,24.1702995,24.0398998\n",
      "Hydra_60.10417,24.4978008,24.6103992,23.1455002\n",
      "Hydra_60.723,24.4333992,23.7744999,23.2784004\n",
      "Hydra_60.10476,24.7959995,24.4902,24.1972008\n",
      "Hydra_60.681,24.7140007,24.3913002,24.0962009\n",
      "Hydra_60.632,24.5890007,24.2213001,24.0212994\n",
      "Hydra_60.10333,23.5198002,22.4316006,21.9218006\n",
      "Hydra_60.674,21.9039993,20.2395992,19.6156998\n",
      "Hydra_60.10456,24.4584007,24.1732998,24.2203999\n",
      "Hydra_60.10472,24.5669994,24.6012993,24.1273994\n",
      "Hydra_60.10408,23.6518002,22.7830009,22.3952007\n",
      "Hydra_60.755,21.2730999,19.8805008,19.5330009\n",
      "Hydra_60.757,23.9622993,23.3495007,22.9013996\n",
      "Hydra_60.700,24.7530003,24.3411999,24.4498005\n",
      "Hydra_60.445,24.5020008,24.2768002,24.1236992\n",
      "Hydra_60.10319,24.6604004,24.3918991,24.0112\n",
      "Hydra_60.10373,24.6119003,24.2894001,24.0417004\n",
      "Hydra_60.474,24.6182995,24.2369003,23.0198994\n",
      "Hydra_60.10211,24.5853996,24.3043995,24.3278999\n",
      "\n"
     ]
    }
   ],
   "source": [
    "print response"
   ]
  },
  {
   "cell_type": "markdown",
   "metadata": {},
   "source": [
    "#### Saving results to virtual storage\n",
    "\n",
    "Now we want to save the results from the same query to our virtual storage space instead."
   ]
  },
  {
   "cell_type": "code",
   "execution_count": 134,
   "metadata": {
    "collapsed": false
   },
   "outputs": [],
   "source": [
    "response = queryClient.query(token, adql = query, fmt = 'csv', out = 'vos://mags.csv')"
   ]
  },
  {
   "cell_type": "markdown",
   "metadata": {},
   "source": [
    "#### Saving results to remote database\n",
    "\n",
    "Alternatively we may want to store the results in a table called <i>mags</i> in our remote database."
   ]
  },
  {
   "cell_type": "code",
   "execution_count": 136,
   "metadata": {
    "collapsed": true
   },
   "outputs": [],
   "source": [
    "response = queryClient.query(token, adql = query, out = 'mydb://mags')"
   ]
  },
  {
   "cell_type": "markdown",
   "metadata": {},
   "source": [
    "#### An asynchronous query\n",
    "\n",
    "We now want to run a longer query, say, counting the total number of objects is USNO-B1, and need to do it asynchronously. The first thing we do is submit the query as normal but with the <i>async</i> argument indicated - this will return the id of the asynchronous job. All the previous arguments can also be used to specify where and in what format we want the query results."
   ]
  },
  {
   "cell_type": "code",
   "execution_count": 154,
   "metadata": {
    "collapsed": false
   },
   "outputs": [
    {
     "name": "stdout",
     "output_type": "stream",
     "text": [
      "ex70ziffiynv6t3c\n"
     ]
    }
   ],
   "source": [
    "query = 'select count(*) from usno.b1'\n",
    "jobId = queryClient.query(token, adql = query, async = True)"
   ]
  },
  {
   "cell_type": "markdown",
   "metadata": {},
   "source": [
    "We can check on the status of the job at any time:"
   ]
  },
  {
   "cell_type": "code",
   "execution_count": 157,
   "metadata": {
    "collapsed": false
   },
   "outputs": [
    {
     "name": "stdout",
     "output_type": "stream",
     "text": [
      "COMPLETED\n"
     ]
    }
   ],
   "source": [
    "status = queryClient.status(token, jobId = jobId)\n",
    "print status"
   ]
  },
  {
   "cell_type": "markdown",
   "metadata": {},
   "source": [
    "If the status value is \"QUEUED\" then the job is waiting to be executed. If\n",
    "it is \"ERROR\" then there was a problem with the execution. When the status value is \"COMPLETED\", we can get our results (assuming we did not save them to our virtual storage or remote database)."
   ]
  },
  {
   "cell_type": "code",
   "execution_count": 158,
   "metadata": {
    "collapsed": false
   },
   "outputs": [
    {
     "name": "stdout",
     "output_type": "stream",
     "text": [
      "COUNT\n",
      "1045175762\n",
      "\n"
     ]
    }
   ],
   "source": [
    "results = queryClient.results(token, jobId = jobId)\n",
    "print results"
   ]
  },
  {
   "cell_type": "markdown",
   "metadata": {},
   "source": [
    "#### Using profiles\n",
    "\n",
    "Different data sets (or versions of the same data set) may reside on different backend database servers and a user may want to work explicitly with a particular set. The first thing to do is see what profiles are available."
   ]
  },
  {
   "cell_type": "raw",
   "metadata": {},
   "source": [
    "queryClient.list_profiles(token)"
   ]
  },
  {
   "cell_type": "markdown",
   "metadata": {},
   "source": [
    "We can get the details of a particular profile by including the name of the profile as an argument in the <i>list_profiles</i> method:"
   ]
  },
  {
   "cell_type": "code",
   "execution_count": null,
   "metadata": {
    "collapsed": true
   },
   "outputs": [],
   "source": [
    "queryClient.list_profiles(token, \"default\")"
   ]
  },
  {
   "cell_type": "markdown",
   "metadata": {},
   "source": [
    "So let's try a query against the default profile first - let's get a list of all tables in the default database:"
   ]
  },
  {
   "cell_type": "code",
   "execution_count": null,
   "metadata": {
    "collapsed": true
   },
   "outputs": [],
   "source": [
    "adql = 'select table_catalog, table_schema, table_name from information_schema.tables'\n",
    "default = queryClient.query(token, adql)"
   ]
  },
  {
   "cell_type": "markdown",
   "metadata": {},
   "source": [
    "And now we'll run the same query against the 'zeus1' profile:"
   ]
  },
  {
   "cell_type": "code",
   "execution_count": null,
   "metadata": {
    "collapsed": true
   },
   "outputs": [],
   "source": [
    "queryClient.set_profile('zeus1')\n",
    "zeus1 = queryClient.query(token, adql)"
   ]
  },
  {
   "cell_type": "markdown",
   "metadata": {},
   "source": [
    "Comparing the two outputs, we can see that there are differences in which tables are available."
   ]
  },
  {
   "cell_type": "markdown",
   "metadata": {},
   "source": [
    "### Using the datalab command\n",
    "\n",
    "The <i>datalab</i> command provides an alternate command line way to work with the query manager through the <i>query</i> subcommands.\n",
    "\n",
    "#### Initialization\n",
    "We need to be logged into the Data Lab to use the query manager."
   ]
  },
  {
   "cell_type": "code",
   "execution_count": null,
   "metadata": {
    "collapsed": true
   },
   "outputs": [],
   "source": [
    "!datalab login --user=dldemo --password=dldemo"
   ]
  },
  {
   "cell_type": "markdown",
   "metadata": {},
   "source": [
    "#### A quick query\n",
    "\n",
    "Again we will return the magnitudes of the top 100 objects in the SMASH data set and get it back as a CSV file:"
   ]
  },
  {
   "cell_type": "code",
   "execution_count": null,
   "metadata": {
    "collapsed": true
   },
   "outputs": [],
   "source": [
    "!datalab query --ofmt='csv' \\\n",
    "  --adql='select id, gmag, rmag, imag from smash.avgmag limit 100'"
   ]
  },
  {
   "cell_type": "markdown",
   "metadata": {},
   "source": [
    "#### Saving results to virtual storage\n",
    "\n",
    "Now we'll save the results to our virtual storage:"
   ]
  },
  {
   "cell_type": "code",
   "execution_count": 1,
   "metadata": {
    "collapsed": false
   },
   "outputs": [
    {
     "name": "stdout",
     "output_type": "stream",
     "text": [
      "/bin/sh: datalab: command not found\r\n"
     ]
    }
   ],
   "source": [
    "!datalab query --out='vos://mags.csv' --ofmt='csv' \\\n",
    "    --adql='select id, gmag, rmag, imag from smash.avgmag limit 100'"
   ]
  },
  {
   "cell_type": "markdown",
   "metadata": {},
   "source": [
    "#### Saving results to remote database\n",
    "\n",
    "And to our remote database:"
   ]
  },
  {
   "cell_type": "code",
   "execution_count": 2,
   "metadata": {
    "collapsed": false
   },
   "outputs": [
    {
     "name": "stdout",
     "output_type": "stream",
     "text": [
      "/bin/sh: datalab: command not found\r\n"
     ]
    }
   ],
   "source": [
    "!datalab query --out='mydb://mags' --ofmt='csv' \\\n",
    "    --adql='select id, gmag, rmag, imag from smash.avgmag limit 100' "
   ]
  },
  {
   "cell_type": "markdown",
   "metadata": {},
   "source": [
    "#### An asynchronous query\n",
    "\n",
    "Alternatively, we'll run the longer asynchronous query:"
   ]
  },
  {
   "cell_type": "code",
   "execution_count": null,
   "metadata": {
    "collapsed": true
   },
   "outputs": [],
   "source": [
    "!datalab query --adql='select count(*) from usno.b1' --async=True"
   ]
  },
  {
   "cell_type": "markdown",
   "metadata": {},
   "source": []
  }
 ],
 "metadata": {
  "anaconda-cloud": {},
  "kernelspec": {
   "display_name": "Python [Root]",
   "language": "python",
   "name": "Python [Root]"
  },
  "language_info": {
   "codemirror_mode": {
    "name": "ipython",
    "version": 2
   },
   "file_extension": ".py",
   "mimetype": "text/x-python",
   "name": "python",
   "nbconvert_exporter": "python",
   "pygments_lexer": "ipython2",
   "version": "2.7.12"
  }
 },
 "nbformat": 4,
 "nbformat_minor": 0
}
